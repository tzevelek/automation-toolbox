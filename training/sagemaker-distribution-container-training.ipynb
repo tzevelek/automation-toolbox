{
 "cells": [
  {
   "cell_type": "markdown",
   "id": "acf6963f-6221-431b-983e-0b8bf29e75f6",
   "metadata": {},
   "source": [
    "## Using the SageMaker Distribution container for SageMaker Training jobs"
   ]
  },
  {
   "cell_type": "code",
   "execution_count": null,
   "id": "ce06c0b3-bb02-4ff7-b67f-cfe7b188c05b",
   "metadata": {},
   "outputs": [],
   "source": [
    "import sagemaker\n",
    "from sagemaker.estimator import Estimator \n",
    "from sagemaker.inputs import TrainingInput\n",
    "from sagemaker import get_execution_role\n",
    "\n",
    "sess = sagemaker.Session()\n",
    "role=get_execution_role(sess)\n",
    "\n",
    "#run env in SageMaker Studio to get the smd_image_uri\n",
    "smd_image_uri=\"542918446943.dkr.ecr.us-west-2.amazonaws.com/sagemaker-distribution-prod@sha256:7c07530831d3d25b27a77b6a77f9801eec01b7b80c69ca1aa2c9eae3df00887d\""
   ]
  },
  {
   "cell_type": "code",
   "execution_count": null,
   "id": "9c64192b-9079-454a-90e1-21185658f9c0",
   "metadata": {},
   "outputs": [],
   "source": [
    "print(f\"sagemaker role arn: {role}\")\n",
    "print(f\"sagemaker bucket: {sess.default_bucket()}\")\n",
    "print(f\"sagemaker session region: {sess.boto_region_name}\")"
   ]
  },
  {
   "cell_type": "code",
   "execution_count": null,
   "id": "fb9b7bb0-116b-4be3-b8a3-9ca8f586e60d",
   "metadata": {},
   "outputs": [],
   "source": [
    "sess.upload_data(\"main.py\") #this is the entrypoint script"
   ]
  },
  {
   "cell_type": "code",
   "execution_count": null,
   "id": "4a137779-3274-4543-ae53-730e40b61127",
   "metadata": {},
   "outputs": [],
   "source": [
    "estimator = Estimator(\n",
    "    image_uri=smd_image_uri,\n",
    "    role=role, \n",
    "    base_job_name=\"sklearn-script-mode-smd\", \n",
    "    instance_type=\"ml.m5.large\",\n",
    "    instance_count=1, \n",
    "    container_entry_point= [\"python\"],\n",
    "    container_arguments= [\"/opt/ml/input/data/code/main.py\"])"
   ]
  },
  {
   "cell_type": "code",
   "execution_count": null,
   "id": "52c8788a-4980-4097-a5fd-4e83ecf43d47",
   "metadata": {},
   "outputs": [],
   "source": [
    "code_input = TrainingInput (\"s3://{0}/data/main.py\".format(sess.default_bucket()))"
   ]
  },
  {
   "cell_type": "code",
   "execution_count": null,
   "id": "e8a12a0f-c793-4a3a-bb7c-fe6b4cd5c020",
   "metadata": {},
   "outputs": [],
   "source": [
    "estimator.fit(inputs={\"code\": code_input})"
   ]
  },
  {
   "cell_type": "code",
   "execution_count": null,
   "id": "3f4fc065-b8dc-49e4-9e01-28c15f58476c",
   "metadata": {},
   "outputs": [],
   "source": []
  }
 ],
 "metadata": {
  "kernelspec": {
   "display_name": "Python 3 (ipykernel)",
   "language": "python",
   "name": "python3"
  },
  "language_info": {
   "codemirror_mode": {
    "name": "ipython",
    "version": 3
   },
   "file_extension": ".py",
   "mimetype": "text/x-python",
   "name": "python",
   "nbconvert_exporter": "python",
   "pygments_lexer": "ipython3",
   "version": "3.10.14"
  }
 },
 "nbformat": 4,
 "nbformat_minor": 5
}
