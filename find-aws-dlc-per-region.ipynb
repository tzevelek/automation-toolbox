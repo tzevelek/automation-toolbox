{
 "cells": [
  {
   "cell_type": "markdown",
   "id": "4c1ce80f-570b-43db-8e0f-1786b07fd2b0",
   "metadata": {},
   "source": [
    "### SageMaker tips: How to retrieve an use AWS DCL image URI in a specific region"
   ]
  },
  {
   "cell_type": "markdown",
   "id": "b51136bd-8d87-4dc6-88d0-8e871276dc4e",
   "metadata": {},
   "source": [
    "DLCs per region are available on this page https://docs.aws.amazon.com/sagemaker/latest/dg-ecr-paths/sagemaker-algo-docker-registry-paths.html\n",
    "and can also be retrieved with code"
   ]
  },
  {
   "cell_type": "code",
   "execution_count": 1,
   "id": "24240c22-5f42-40dc-922b-1b082721d5df",
   "metadata": {},
   "outputs": [
    {
     "name": "stdout",
     "output_type": "stream",
     "text": [
      "sagemaker.config INFO - Not applying SDK defaults from location: /etc/xdg/sagemaker/config.yaml\n",
      "sagemaker.config INFO - Not applying SDK defaults from location: /home/sagemaker-user/.config/sagemaker/config.yaml\n"
     ]
    }
   ],
   "source": [
    "import sagemaker\n",
    "\n",
    "sagemaker_session = sagemaker.Session()\n",
    "region = sagemaker_session.boto_region_name\n",
    "\n",
    "bucket = sagemaker_session.default_bucket()\n",
    "prefix = \"sagemaker/DEMO-pytorch-mnist\"\n",
    "\n",
    "role = sagemaker.get_execution_role()"
   ]
  },
  {
   "cell_type": "code",
   "execution_count": null,
   "id": "a8ec3201-81da-49b1-a497-0cbdb78bd665",
   "metadata": {},
   "outputs": [],
   "source": [
    "!pip install -U sagemaker"
   ]
  },
  {
   "cell_type": "code",
   "execution_count": null,
   "id": "4bfad752-14a5-4c4d-856b-b2967b60d3d0",
   "metadata": {},
   "outputs": [],
   "source": [
    "import sagemaker\n",
    "sagemaker.__version__"
   ]
  },
  {
   "cell_type": "code",
   "execution_count": 2,
   "id": "e0bb3494-98d1-4264-8874-dd009c18780c",
   "metadata": {},
   "outputs": [
    {
     "data": {
      "text/plain": [
       "'914824155844.dkr.ecr.me-central-1.amazonaws.com/pytorch-training:1.12.0-gpu-py38'"
      ]
     },
     "execution_count": 2,
     "metadata": {},
     "output_type": "execute_result"
    }
   ],
   "source": [
    "from sagemaker import image_uris\n",
    "image_uris.retrieve(framework='pytorch',region='me-central-1',version='1.12.0',py_version='py38',image_scope='training', instance_type='ml.g5.xlarge')"
   ]
  },
  {
   "cell_type": "markdown",
   "id": "9c0dfdbd-5914-4131-9762-1a3cb42b5ccb",
   "metadata": {},
   "source": [
    "#### You can use the above container as-is or add libraries using the requirements.txt file.T"
   ]
  },
  {
   "cell_type": "markdown",
   "id": "9a111e01-aed3-42f5-aa9b-cbbe53ab642d",
   "metadata": {},
   "source": [
    "The below example assumes that the training code is in *src* and the entry. In *src*, you also add a requirements.txt file with the torch version you want e.g.\n",
    "\n",
    "torch==1.13.1\n",
    "\n",
    "torchvision==0.14.1\n",
    "\n",
    "torchaudio==0.13.1\n",
    "\n",
    "torchdata==0.5.1\n",
    "\n",
    "torchtext==0.14.1\n"
   ]
  },
  {
   "cell_type": "code",
   "execution_count": null,
   "id": "2db428ac-e969-4eb7-adb0-fe440e9c3689",
   "metadata": {},
   "outputs": [],
   "source": [
    "from sagemaker.pytorch import PyTorch, TrainingCompilerConfig\n",
    "\n",
    "estimator = PyTorch(\n",
    "    entry_point=\"train.py\",\n",
    "    role=role,\n",
    "    source_dir='src',\n",
    "    #framework_version='1.3.1',\n",
    "    image_uri='914824155844.dkr.ecr.me-central-1.amazonaws.com/pytorch-training:1.12.0-gpu-py38',\n",
    "    #py_version='py39',\n",
    "    instance_count=1,\n",
    "    instance_type=\"ml.g5.xlarge\",\n",
    "    hyperparameters={\"epochs\": 1},\n",
    ")"
   ]
  },
  {
   "cell_type": "code",
   "execution_count": null,
   "id": "0625e7eb-7d14-4e0a-aaab-56ece2d8f957",
   "metadata": {},
   "outputs": [],
   "source": [
    "estimator.fit({\"training\": inputs})"
   ]
  }
 ],
 "metadata": {
  "kernelspec": {
   "display_name": "Python 3 (ipykernel)",
   "language": "python",
   "name": "python3"
  },
  "language_info": {
   "codemirror_mode": {
    "name": "ipython",
    "version": 3
   },
   "file_extension": ".py",
   "mimetype": "text/x-python",
   "name": "python",
   "nbconvert_exporter": "python",
   "pygments_lexer": "ipython3",
   "version": "3.10.13"
  }
 },
 "nbformat": 4,
 "nbformat_minor": 5
}
